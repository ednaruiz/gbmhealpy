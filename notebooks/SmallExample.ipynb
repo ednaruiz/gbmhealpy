{
 "cells": [
  {
   "cell_type": "code",
   "execution_count": 3,
   "id": "7b78d60d-aefa-486b-9879-2a063af03fe3",
   "metadata": {
    "tags": []
   },
   "outputs": [],
   "source": [
    "\n",
    "from gbmhealpy.localization import GbmHealPix\n",
    "\n",
    "gbmmap = \"glg_healpix_all_bn180113011.fit\"\n"
   ]
  },
  {
   "cell_type": "code",
   "execution_count": 4,
   "id": "b3b93133-c884-4916-a090-2549d7bad1fb",
   "metadata": {
    "tags": []
   },
   "outputs": [
    {
     "name": "stderr",
     "output_type": "stream",
     "text": [
      "/Users/edna/GRBs/gbmhealpy/gbmhealpy/localization.py:748: HealpyDeprecationWarning: \"verbose\" was deprecated in version 1.15.0 and will be removed in a future version. \n",
      "  prob, sig = hp.read_map(filename, field=(0, 1), memmap=False,\n"
     ]
    }
   ],
   "source": [
    "loc = GbmHealPix.open(gbmmap)"
   ]
  },
  {
   "cell_type": "code",
   "execution_count": 5,
   "id": "62b19025-8d4e-44f9-abb9-50f7f6d4c69c",
   "metadata": {
    "tags": []
   },
   "outputs": [
    {
     "name": "stdout",
     "output_type": "stream",
     "text": [
      "Healpix nside: 128\n",
      "Healpix npix: 196608\n",
      "Pixel area (sq. deg.): 0.20982341130279172\n"
     ]
    }
   ],
   "source": [
    "print('Healpix nside: {}'.format(loc.nside))\n",
    "print('Healpix npix: {}'.format(loc.npix))\n",
    "print('Pixel area (sq. deg.): {}'.format(loc.pixel_area))"
   ]
  },
  {
   "cell_type": "code",
   "execution_count": 6,
   "id": "063b332b-8409-4fb9-9e6b-74a222f6893c",
   "metadata": {
    "tags": []
   },
   "outputs": [
    {
     "data": {
      "text/plain": [
       "[array([[351.97771588,  10.27373594],\n",
       "        [351.51388748,  10.55865922],\n",
       "        [351.34917348,  11.56424581],\n",
       "        [350.97493036,  12.52988593],\n",
       "        [350.96105979,  12.5698324 ],\n",
       "        [350.97493036,  12.64669138],\n",
       "        [351.1474845 ,  13.57541899],\n",
       "        [351.37878636,  14.58100559],\n",
       "        [351.97771588,  15.57269648],\n",
       "        [351.98914666,  15.58659218],\n",
       "        [352.98050139,  16.16023321],\n",
       "        [353.75472077,  16.59217877],\n",
       "        [353.98328691,  16.7267161 ],\n",
       "        [354.7970438 ,  16.59217877],\n",
       "        [354.98607242,  16.55940585],\n",
       "        [355.39263359,  16.59217877],\n",
       "        [355.98885794,  16.63819494],\n",
       "        [356.05798805,  16.59217877],\n",
       "        [356.99164345,  16.04035894],\n",
       "        [357.95890883,  15.58659218],\n",
       "        [357.99442897,  14.79886488],\n",
       "        [358.00251798,  14.58100559],\n",
       "        [358.35881614,  13.57541899],\n",
       "        [357.99442897,  12.91006431],\n",
       "        [357.8554312 ,  12.5698324 ],\n",
       "        [357.75426746,  11.56424581],\n",
       "        [356.99164345,  10.6322977 ],\n",
       "        [356.90345282,  10.55865922],\n",
       "        [355.98885794,   9.82092194],\n",
       "        [354.98607242,   9.88409493],\n",
       "        [353.98328691,   9.86448423],\n",
       "        [352.98050139,  10.24228704],\n",
       "        [351.97771588,  10.27373594]])]"
      ]
     },
     "execution_count": 6,
     "metadata": {},
     "output_type": "execute_result"
    }
   ],
   "source": [
    "%matplotlib agg\n",
    "loc.confidence_region_path(0.5)"
   ]
  },
  {
   "cell_type": "code",
   "execution_count": null,
   "id": "1ba22ba5-b869-47ba-a9b7-affb46c448c1",
   "metadata": {},
   "outputs": [],
   "source": []
  }
 ],
 "metadata": {
  "kernelspec": {
   "display_name": "Python 3 (ipykernel)",
   "language": "python",
   "name": "python3"
  },
  "language_info": {
   "codemirror_mode": {
    "name": "ipython",
    "version": 3
   },
   "file_extension": ".py",
   "mimetype": "text/x-python",
   "name": "python",
   "nbconvert_exporter": "python",
   "pygments_lexer": "ipython3",
   "version": "3.11.5"
  }
 },
 "nbformat": 4,
 "nbformat_minor": 5
}
